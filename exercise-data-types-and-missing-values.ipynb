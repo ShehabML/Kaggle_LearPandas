{
 "cells": [
  {
   "cell_type": "markdown",
   "id": "2ef05fcb",
   "metadata": {
    "papermill": {
     "duration": 0.004277,
     "end_time": "2023-02-14T08:00:56.223749",
     "exception": false,
     "start_time": "2023-02-14T08:00:56.219472",
     "status": "completed"
    },
    "tags": []
   },
   "source": [
    "**This notebook is an exercise in the [Pandas](https://www.kaggle.com/learn/pandas) course.  You can reference the tutorial at [this link](https://www.kaggle.com/residentmario/data-types-and-missing-values).**\n",
    "\n",
    "---\n"
   ]
  },
  {
   "cell_type": "markdown",
   "id": "b9771923",
   "metadata": {
    "papermill": {
     "duration": 0.003314,
     "end_time": "2023-02-14T08:00:56.230775",
     "exception": false,
     "start_time": "2023-02-14T08:00:56.227461",
     "status": "completed"
    },
    "tags": []
   },
   "source": [
    "# Introduction\n",
    "\n",
    "Run the following cell to load your data and some utility functions."
   ]
  },
  {
   "cell_type": "code",
   "execution_count": 1,
   "id": "5f4283c7",
   "metadata": {
    "execution": {
     "iopub.execute_input": "2023-02-14T08:00:56.240061Z",
     "iopub.status.busy": "2023-02-14T08:00:56.239511Z",
     "iopub.status.idle": "2023-02-14T08:00:58.884055Z",
     "shell.execute_reply": "2023-02-14T08:00:58.882300Z"
    },
    "papermill": {
     "duration": 2.65171,
     "end_time": "2023-02-14T08:00:58.886129",
     "exception": false,
     "start_time": "2023-02-14T08:00:56.234419",
     "status": "completed"
    },
    "tags": []
   },
   "outputs": [
    {
     "name": "stdout",
     "output_type": "stream",
     "text": [
      "Setup complete.\n"
     ]
    }
   ],
   "source": [
    "import pandas as pd\n",
    "\n",
    "reviews = pd.read_csv(\"../input/wine-reviews/winemag-data-130k-v2.csv\", index_col=0)\n",
    "\n",
    "from learntools.core import binder; binder.bind(globals())\n",
    "from learntools.pandas.data_types_and_missing_data import *\n",
    "print(\"Setup complete.\")"
   ]
  },
  {
   "cell_type": "markdown",
   "id": "57327afe",
   "metadata": {
    "papermill": {
     "duration": 0.003044,
     "end_time": "2023-02-14T08:00:58.892908",
     "exception": false,
     "start_time": "2023-02-14T08:00:58.889864",
     "status": "completed"
    },
    "tags": []
   },
   "source": [
    "# Exercises"
   ]
  },
  {
   "cell_type": "markdown",
   "id": "cf99a8b2",
   "metadata": {
    "papermill": {
     "duration": 0.002952,
     "end_time": "2023-02-14T08:00:58.898967",
     "exception": false,
     "start_time": "2023-02-14T08:00:58.896015",
     "status": "completed"
    },
    "tags": []
   },
   "source": [
    "## 1. \n",
    "What is the data type of the `points` column in the dataset?"
   ]
  },
  {
   "cell_type": "code",
   "execution_count": 2,
   "id": "7c4e23f8",
   "metadata": {
    "execution": {
     "iopub.execute_input": "2023-02-14T08:00:58.906812Z",
     "iopub.status.busy": "2023-02-14T08:00:58.906482Z",
     "iopub.status.idle": "2023-02-14T08:00:58.918090Z",
     "shell.execute_reply": "2023-02-14T08:00:58.917025Z"
    },
    "papermill": {
     "duration": 0.017876,
     "end_time": "2023-02-14T08:00:58.920006",
     "exception": false,
     "start_time": "2023-02-14T08:00:58.902130",
     "status": "completed"
    },
    "tags": []
   },
   "outputs": [
    {
     "data": {
      "application/javascript": [
       "parent.postMessage({\"jupyterEvent\": \"custom.exercise_interaction\", \"data\": {\"outcomeType\": 1, \"valueTowardsCompletion\": 0.25, \"interactionType\": 1, \"questionType\": 1, \"questionId\": \"1_PointsDtype\", \"learnToolsVersion\": \"0.3.4\", \"failureMessage\": \"\", \"exceptionClass\": \"\", \"trace\": \"\"}}, \"*\")"
      ],
      "text/plain": [
       "<IPython.core.display.Javascript object>"
      ]
     },
     "metadata": {},
     "output_type": "display_data"
    },
    {
     "data": {
      "text/markdown": [
       "<span style=\"color:#33cc33\">Correct</span>"
      ],
      "text/plain": [
       "Correct"
      ]
     },
     "metadata": {},
     "output_type": "display_data"
    }
   ],
   "source": [
    "# Your code here\n",
    "dtype = reviews.points.dtype\n",
    "\n",
    "# Check your answer\n",
    "q1.check()"
   ]
  },
  {
   "cell_type": "code",
   "execution_count": 3,
   "id": "aed216e6",
   "metadata": {
    "execution": {
     "iopub.execute_input": "2023-02-14T08:00:58.929096Z",
     "iopub.status.busy": "2023-02-14T08:00:58.928786Z",
     "iopub.status.idle": "2023-02-14T08:00:58.933947Z",
     "shell.execute_reply": "2023-02-14T08:00:58.932546Z"
    },
    "papermill": {
     "duration": 0.012411,
     "end_time": "2023-02-14T08:00:58.936298",
     "exception": false,
     "start_time": "2023-02-14T08:00:58.923887",
     "status": "completed"
    },
    "tags": []
   },
   "outputs": [],
   "source": [
    "#q1.hint()\n",
    "#q1.solution()"
   ]
  },
  {
   "cell_type": "markdown",
   "id": "6983eda1",
   "metadata": {
    "papermill": {
     "duration": 0.003405,
     "end_time": "2023-02-14T08:00:58.943632",
     "exception": false,
     "start_time": "2023-02-14T08:00:58.940227",
     "status": "completed"
    },
    "tags": []
   },
   "source": [
    "## 2. \n",
    "Create a Series from entries in the `points` column, but convert the entries to strings. Hint: strings are `str` in native Python."
   ]
  },
  {
   "cell_type": "code",
   "execution_count": 4,
   "id": "0e2d0e03",
   "metadata": {
    "execution": {
     "iopub.execute_input": "2023-02-14T08:00:58.952460Z",
     "iopub.status.busy": "2023-02-14T08:00:58.952116Z",
     "iopub.status.idle": "2023-02-14T08:00:59.040795Z",
     "shell.execute_reply": "2023-02-14T08:00:59.039221Z"
    },
    "papermill": {
     "duration": 0.095504,
     "end_time": "2023-02-14T08:00:59.042770",
     "exception": false,
     "start_time": "2023-02-14T08:00:58.947266",
     "status": "completed"
    },
    "tags": []
   },
   "outputs": [
    {
     "data": {
      "application/javascript": [
       "parent.postMessage({\"jupyterEvent\": \"custom.exercise_interaction\", \"data\": {\"outcomeType\": 1, \"valueTowardsCompletion\": 0.25, \"interactionType\": 1, \"questionType\": 1, \"questionId\": \"2_StrPoints\", \"learnToolsVersion\": \"0.3.4\", \"failureMessage\": \"\", \"exceptionClass\": \"\", \"trace\": \"\"}}, \"*\")"
      ],
      "text/plain": [
       "<IPython.core.display.Javascript object>"
      ]
     },
     "metadata": {},
     "output_type": "display_data"
    },
    {
     "data": {
      "text/markdown": [
       "<span style=\"color:#33cc33\">Correct</span>"
      ],
      "text/plain": [
       "Correct"
      ]
     },
     "metadata": {},
     "output_type": "display_data"
    }
   ],
   "source": [
    "point_strings = reviews.points.astype('str')\n",
    "\n",
    "# Check your answer\n",
    "q2.check()"
   ]
  },
  {
   "cell_type": "code",
   "execution_count": 5,
   "id": "3c05f79b",
   "metadata": {
    "execution": {
     "iopub.execute_input": "2023-02-14T08:00:59.052623Z",
     "iopub.status.busy": "2023-02-14T08:00:59.052334Z",
     "iopub.status.idle": "2023-02-14T08:00:59.057019Z",
     "shell.execute_reply": "2023-02-14T08:00:59.055444Z"
    },
    "papermill": {
     "duration": 0.01208,
     "end_time": "2023-02-14T08:00:59.059419",
     "exception": false,
     "start_time": "2023-02-14T08:00:59.047339",
     "status": "completed"
    },
    "tags": []
   },
   "outputs": [],
   "source": [
    "#q2.hint()\n",
    "#q2.solution()"
   ]
  },
  {
   "cell_type": "markdown",
   "id": "d31c67db",
   "metadata": {
    "papermill": {
     "duration": 0.003885,
     "end_time": "2023-02-14T08:00:59.067538",
     "exception": false,
     "start_time": "2023-02-14T08:00:59.063653",
     "status": "completed"
    },
    "tags": []
   },
   "source": [
    "## 3.\n",
    "Sometimes the price column is null. How many reviews in the dataset are missing a price?"
   ]
  },
  {
   "cell_type": "code",
   "execution_count": 6,
   "id": "cfc99c26",
   "metadata": {
    "execution": {
     "iopub.execute_input": "2023-02-14T08:00:59.077779Z",
     "iopub.status.busy": "2023-02-14T08:00:59.077391Z",
     "iopub.status.idle": "2023-02-14T08:00:59.089080Z",
     "shell.execute_reply": "2023-02-14T08:00:59.087932Z"
    },
    "papermill": {
     "duration": 0.019893,
     "end_time": "2023-02-14T08:00:59.091672",
     "exception": false,
     "start_time": "2023-02-14T08:00:59.071779",
     "status": "completed"
    },
    "tags": []
   },
   "outputs": [
    {
     "data": {
      "application/javascript": [
       "parent.postMessage({\"jupyterEvent\": \"custom.exercise_interaction\", \"data\": {\"outcomeType\": 1, \"valueTowardsCompletion\": 0.25, \"interactionType\": 1, \"questionType\": 1, \"questionId\": \"3_CountMissingPrices\", \"learnToolsVersion\": \"0.3.4\", \"failureMessage\": \"\", \"exceptionClass\": \"\", \"trace\": \"\"}}, \"*\")"
      ],
      "text/plain": [
       "<IPython.core.display.Javascript object>"
      ]
     },
     "metadata": {},
     "output_type": "display_data"
    },
    {
     "data": {
      "text/markdown": [
       "<span style=\"color:#33cc33\">Correct</span>"
      ],
      "text/plain": [
       "Correct"
      ]
     },
     "metadata": {},
     "output_type": "display_data"
    }
   ],
   "source": [
    "n_missing_prices = reviews.price.isnull().sum()\n",
    "\n",
    "# Check your answer\n",
    "q3.check()"
   ]
  },
  {
   "cell_type": "code",
   "execution_count": 7,
   "id": "b2c16bb0",
   "metadata": {
    "execution": {
     "iopub.execute_input": "2023-02-14T08:00:59.102205Z",
     "iopub.status.busy": "2023-02-14T08:00:59.101880Z",
     "iopub.status.idle": "2023-02-14T08:00:59.105683Z",
     "shell.execute_reply": "2023-02-14T08:00:59.104722Z"
    },
    "papermill": {
     "duration": 0.011238,
     "end_time": "2023-02-14T08:00:59.107462",
     "exception": false,
     "start_time": "2023-02-14T08:00:59.096224",
     "status": "completed"
    },
    "tags": []
   },
   "outputs": [],
   "source": [
    "#q3.hint()\n",
    "#q3.solution()"
   ]
  },
  {
   "cell_type": "markdown",
   "id": "14f8a855",
   "metadata": {
    "papermill": {
     "duration": 0.004124,
     "end_time": "2023-02-14T08:00:59.116180",
     "exception": false,
     "start_time": "2023-02-14T08:00:59.112056",
     "status": "completed"
    },
    "tags": []
   },
   "source": [
    "## 4.\n",
    "What are the most common wine-producing regions? Create a Series counting the number of times each value occurs in the `region_1` field. This field is often missing data, so replace missing values with `Unknown`. Sort in descending order.  Your output should look something like this:\n",
    "\n",
    "```\n",
    "Unknown                    21247\n",
    "Napa Valley                 4480\n",
    "                           ...  \n",
    "Bardolino Superiore            1\n",
    "Primitivo del Tarantino        1\n",
    "Name: region_1, Length: 1230, dtype: int64\n",
    "```"
   ]
  },
  {
   "cell_type": "code",
   "execution_count": 8,
   "id": "77125a49",
   "metadata": {
    "execution": {
     "iopub.execute_input": "2023-02-14T08:00:59.127516Z",
     "iopub.status.busy": "2023-02-14T08:00:59.127060Z",
     "iopub.status.idle": "2023-02-14T08:00:59.166925Z",
     "shell.execute_reply": "2023-02-14T08:00:59.165358Z"
    },
    "papermill": {
     "duration": 0.048904,
     "end_time": "2023-02-14T08:00:59.169459",
     "exception": false,
     "start_time": "2023-02-14T08:00:59.120555",
     "status": "completed"
    },
    "tags": []
   },
   "outputs": [
    {
     "data": {
      "application/javascript": [
       "parent.postMessage({\"jupyterEvent\": \"custom.exercise_interaction\", \"data\": {\"outcomeType\": 1, \"valueTowardsCompletion\": 0.25, \"interactionType\": 1, \"questionType\": 2, \"questionId\": \"4_ReviewsPerRegion\", \"learnToolsVersion\": \"0.3.4\", \"failureMessage\": \"\", \"exceptionClass\": \"\", \"trace\": \"\"}}, \"*\")"
      ],
      "text/plain": [
       "<IPython.core.display.Javascript object>"
      ]
     },
     "metadata": {},
     "output_type": "display_data"
    },
    {
     "data": {
      "text/markdown": [
       "<span style=\"color:#33cc33\">Correct</span>"
      ],
      "text/plain": [
       "Correct"
      ]
     },
     "metadata": {},
     "output_type": "display_data"
    }
   ],
   "source": [
    "#r= reviews.region_1.fillna('Unknown')\n",
    "\n",
    "\n",
    "reviews_per_region = reviews.region_1.fillna(\"Unknown\").value_counts()\n",
    "\n",
    "# Check your answer\n",
    "q4.check()"
   ]
  },
  {
   "cell_type": "code",
   "execution_count": 9,
   "id": "a79a50e9",
   "metadata": {
    "execution": {
     "iopub.execute_input": "2023-02-14T08:00:59.180235Z",
     "iopub.status.busy": "2023-02-14T08:00:59.179900Z",
     "iopub.status.idle": "2023-02-14T08:00:59.184238Z",
     "shell.execute_reply": "2023-02-14T08:00:59.183240Z"
    },
    "papermill": {
     "duration": 0.011478,
     "end_time": "2023-02-14T08:00:59.185859",
     "exception": false,
     "start_time": "2023-02-14T08:00:59.174381",
     "status": "completed"
    },
    "tags": []
   },
   "outputs": [],
   "source": [
    "#q4.hint()\n",
    "#q4.solution()"
   ]
  },
  {
   "cell_type": "markdown",
   "id": "058a3689",
   "metadata": {
    "papermill": {
     "duration": 0.003995,
     "end_time": "2023-02-14T08:00:59.195111",
     "exception": false,
     "start_time": "2023-02-14T08:00:59.191116",
     "status": "completed"
    },
    "tags": []
   },
   "source": [
    "# Keep going\n",
    "\n",
    "Move on to **[renaming and combining](https://www.kaggle.com/residentmario/renaming-and-combining)**."
   ]
  },
  {
   "cell_type": "markdown",
   "id": "583ff572",
   "metadata": {
    "papermill": {
     "duration": 0.003999,
     "end_time": "2023-02-14T08:00:59.203351",
     "exception": false,
     "start_time": "2023-02-14T08:00:59.199352",
     "status": "completed"
    },
    "tags": []
   },
   "source": [
    "---\n",
    "\n",
    "\n",
    "\n",
    "\n",
    "*Have questions or comments? Visit the [course discussion forum](https://www.kaggle.com/learn/pandas/discussion) to chat with other learners.*"
   ]
  }
 ],
 "metadata": {
  "kernelspec": {
   "display_name": "Python 3",
   "language": "python",
   "name": "python3"
  },
  "language_info": {
   "codemirror_mode": {
    "name": "ipython",
    "version": 3
   },
   "file_extension": ".py",
   "mimetype": "text/x-python",
   "name": "python",
   "nbconvert_exporter": "python",
   "pygments_lexer": "ipython3",
   "version": "3.7.12"
  },
  "papermill": {
   "default_parameters": {},
   "duration": 11.040027,
   "end_time": "2023-02-14T08:00:59.827702",
   "environment_variables": {},
   "exception": null,
   "input_path": "__notebook__.ipynb",
   "output_path": "__notebook__.ipynb",
   "parameters": {},
   "start_time": "2023-02-14T08:00:48.787675",
   "version": "2.3.4"
  }
 },
 "nbformat": 4,
 "nbformat_minor": 5
}
