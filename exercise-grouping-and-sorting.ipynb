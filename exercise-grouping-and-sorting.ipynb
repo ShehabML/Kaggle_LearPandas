{
 "cells": [
  {
   "cell_type": "markdown",
   "id": "c23a5b97",
   "metadata": {
    "papermill": {
     "duration": 0.006761,
     "end_time": "2023-02-14T08:00:11.596959",
     "exception": false,
     "start_time": "2023-02-14T08:00:11.590198",
     "status": "completed"
    },
    "tags": []
   },
   "source": [
    "**This notebook is an exercise in the [Pandas](https://www.kaggle.com/learn/pandas) course.  You can reference the tutorial at [this link](https://www.kaggle.com/residentmario/grouping-and-sorting).**\n",
    "\n",
    "---\n"
   ]
  },
  {
   "cell_type": "markdown",
   "id": "eee52f21",
   "metadata": {
    "papermill": {
     "duration": 0.005084,
     "end_time": "2023-02-14T08:00:11.607587",
     "exception": false,
     "start_time": "2023-02-14T08:00:11.602503",
     "status": "completed"
    },
    "tags": []
   },
   "source": [
    "# Introduction\n",
    "\n",
    "In these exercises we'll apply groupwise analysis to our dataset.\n",
    "\n",
    "Run the code cell below to load the data before running the exercises."
   ]
  },
  {
   "cell_type": "code",
   "execution_count": 1,
   "id": "cf02c082",
   "metadata": {
    "execution": {
     "iopub.execute_input": "2023-02-14T08:00:11.620405Z",
     "iopub.status.busy": "2023-02-14T08:00:11.619941Z",
     "iopub.status.idle": "2023-02-14T08:00:14.576553Z",
     "shell.execute_reply": "2023-02-14T08:00:14.575229Z"
    },
    "papermill": {
     "duration": 2.967021,
     "end_time": "2023-02-14T08:00:14.580015",
     "exception": false,
     "start_time": "2023-02-14T08:00:11.612994",
     "status": "completed"
    },
    "tags": []
   },
   "outputs": [
    {
     "name": "stdout",
     "output_type": "stream",
     "text": [
      "Setup complete.\n"
     ]
    }
   ],
   "source": [
    "import pandas as pd\n",
    "\n",
    "reviews = pd.read_csv(\"../input/wine-reviews/winemag-data-130k-v2.csv\", index_col=0)\n",
    "#pd.set_option(\"display.max_rows\", 5)\n",
    "\n",
    "from learntools.core import binder; binder.bind(globals())\n",
    "from learntools.pandas.grouping_and_sorting import *\n",
    "print(\"Setup complete.\")"
   ]
  },
  {
   "cell_type": "markdown",
   "id": "86856b9d",
   "metadata": {
    "papermill": {
     "duration": 0.00526,
     "end_time": "2023-02-14T08:00:14.591077",
     "exception": false,
     "start_time": "2023-02-14T08:00:14.585817",
     "status": "completed"
    },
    "tags": []
   },
   "source": [
    "# Exercises"
   ]
  },
  {
   "cell_type": "markdown",
   "id": "f6667203",
   "metadata": {
    "papermill": {
     "duration": 0.005239,
     "end_time": "2023-02-14T08:00:14.601817",
     "exception": false,
     "start_time": "2023-02-14T08:00:14.596578",
     "status": "completed"
    },
    "tags": []
   },
   "source": [
    "## 1.\n",
    "Who are the most common wine reviewers in the dataset? Create a `Series` whose index is the `taster_twitter_handle` category from the dataset, and whose values count how many reviews each person wrote."
   ]
  },
  {
   "cell_type": "code",
   "execution_count": 2,
   "id": "c4607771",
   "metadata": {
    "execution": {
     "iopub.execute_input": "2023-02-14T08:00:14.615317Z",
     "iopub.status.busy": "2023-02-14T08:00:14.614151Z",
     "iopub.status.idle": "2023-02-14T08:00:14.638608Z",
     "shell.execute_reply": "2023-02-14T08:00:14.637195Z"
    },
    "papermill": {
     "duration": 0.033652,
     "end_time": "2023-02-14T08:00:14.640964",
     "exception": false,
     "start_time": "2023-02-14T08:00:14.607312",
     "status": "completed"
    },
    "tags": []
   },
   "outputs": [
    {
     "data": {
      "application/javascript": [
       "parent.postMessage({\"jupyterEvent\": \"custom.exercise_interaction\", \"data\": {\"outcomeType\": 1, \"valueTowardsCompletion\": 0.16666666666666666, \"interactionType\": 1, \"questionType\": 1, \"questionId\": \"1_ReviewsWritten\", \"learnToolsVersion\": \"0.3.4\", \"failureMessage\": \"\", \"exceptionClass\": \"\", \"trace\": \"\"}}, \"*\")"
      ],
      "text/plain": [
       "<IPython.core.display.Javascript object>"
      ]
     },
     "metadata": {},
     "output_type": "display_data"
    },
    {
     "data": {
      "text/markdown": [
       "<span style=\"color:#33cc33\">Correct:</span> \n",
       "\n",
       "\n",
       "```python\n",
       "reviews_written = reviews.groupby('taster_twitter_handle').size()\n",
       "```\n",
       "or\n",
       "```python\n",
       "reviews_written = reviews.groupby('taster_twitter_handle').taster_twitter_handle.count()\n",
       "```\n"
      ],
      "text/plain": [
       "Correct: \n",
       "\n",
       "\n",
       "```python\n",
       "reviews_written = reviews.groupby('taster_twitter_handle').size()\n",
       "```\n",
       "or\n",
       "```python\n",
       "reviews_written = reviews.groupby('taster_twitter_handle').taster_twitter_handle.count()\n",
       "```"
      ]
     },
     "metadata": {},
     "output_type": "display_data"
    }
   ],
   "source": [
    "# Your code here\n",
    "reviews_written = reviews.groupby('taster_twitter_handle').size()\n",
    "#reviews_written\n",
    "# Check your answer\n",
    "q1.check()"
   ]
  },
  {
   "cell_type": "code",
   "execution_count": 3,
   "id": "d28a9e28",
   "metadata": {
    "execution": {
     "iopub.execute_input": "2023-02-14T08:00:14.654864Z",
     "iopub.status.busy": "2023-02-14T08:00:14.654465Z",
     "iopub.status.idle": "2023-02-14T08:00:14.658530Z",
     "shell.execute_reply": "2023-02-14T08:00:14.657430Z"
    },
    "papermill": {
     "duration": 0.013793,
     "end_time": "2023-02-14T08:00:14.660839",
     "exception": false,
     "start_time": "2023-02-14T08:00:14.647046",
     "status": "completed"
    },
    "tags": []
   },
   "outputs": [],
   "source": [
    "#q1.hint()\n",
    "#q1.solution()"
   ]
  },
  {
   "cell_type": "markdown",
   "id": "81e3f83d",
   "metadata": {
    "papermill": {
     "duration": 0.00587,
     "end_time": "2023-02-14T08:00:14.672617",
     "exception": false,
     "start_time": "2023-02-14T08:00:14.666747",
     "status": "completed"
    },
    "tags": []
   },
   "source": [
    "## 2.\n",
    "What is the best wine I can buy for a given amount of money? Create a `Series` whose index is wine prices and whose values is the maximum number of points a wine costing that much was given in a review. Sort the values by price, ascending (so that `4.0` dollars is at the top and `3300.0` dollars is at the bottom)."
   ]
  },
  {
   "cell_type": "code",
   "execution_count": 4,
   "id": "e0243437",
   "metadata": {
    "execution": {
     "iopub.execute_input": "2023-02-14T08:00:14.686474Z",
     "iopub.status.busy": "2023-02-14T08:00:14.686027Z",
     "iopub.status.idle": "2023-02-14T08:00:14.700891Z",
     "shell.execute_reply": "2023-02-14T08:00:14.699660Z"
    },
    "papermill": {
     "duration": 0.024846,
     "end_time": "2023-02-14T08:00:14.703356",
     "exception": false,
     "start_time": "2023-02-14T08:00:14.678510",
     "status": "completed"
    },
    "tags": []
   },
   "outputs": [
    {
     "data": {
      "application/javascript": [
       "parent.postMessage({\"jupyterEvent\": \"custom.exercise_interaction\", \"data\": {\"outcomeType\": 1, \"valueTowardsCompletion\": 0.16666666666666666, \"interactionType\": 1, \"questionType\": 1, \"questionId\": \"2_BestRatingPerPrice\", \"learnToolsVersion\": \"0.3.4\", \"failureMessage\": \"\", \"exceptionClass\": \"\", \"trace\": \"\"}}, \"*\")"
      ],
      "text/plain": [
       "<IPython.core.display.Javascript object>"
      ]
     },
     "metadata": {},
     "output_type": "display_data"
    },
    {
     "data": {
      "text/markdown": [
       "<span style=\"color:#33cc33\">Correct</span>"
      ],
      "text/plain": [
       "Correct"
      ]
     },
     "metadata": {},
     "output_type": "display_data"
    }
   ],
   "source": [
    "best_rating_per_price = reviews.groupby('price').points.max()\n",
    "\n",
    "# Check your answer\n",
    "q2.check()"
   ]
  },
  {
   "cell_type": "code",
   "execution_count": 5,
   "id": "0500eb73",
   "metadata": {
    "execution": {
     "iopub.execute_input": "2023-02-14T08:00:14.717607Z",
     "iopub.status.busy": "2023-02-14T08:00:14.717224Z",
     "iopub.status.idle": "2023-02-14T08:00:14.721652Z",
     "shell.execute_reply": "2023-02-14T08:00:14.720566Z"
    },
    "papermill": {
     "duration": 0.014246,
     "end_time": "2023-02-14T08:00:14.723900",
     "exception": false,
     "start_time": "2023-02-14T08:00:14.709654",
     "status": "completed"
    },
    "tags": []
   },
   "outputs": [],
   "source": [
    "#q2.hint()\n",
    "#q2.solution()"
   ]
  },
  {
   "cell_type": "markdown",
   "id": "47763022",
   "metadata": {
    "papermill": {
     "duration": 0.006397,
     "end_time": "2023-02-14T08:00:14.736415",
     "exception": false,
     "start_time": "2023-02-14T08:00:14.730018",
     "status": "completed"
    },
    "tags": []
   },
   "source": [
    "## 3.\n",
    "What are the minimum and maximum prices for each `variety` of wine? Create a `DataFrame` whose index is the `variety` category from the dataset and whose values are the `min` and `max` values thereof."
   ]
  },
  {
   "cell_type": "code",
   "execution_count": 6,
   "id": "0f753cc5",
   "metadata": {
    "execution": {
     "iopub.execute_input": "2023-02-14T08:00:14.750483Z",
     "iopub.status.busy": "2023-02-14T08:00:14.750100Z",
     "iopub.status.idle": "2023-02-14T08:00:14.774481Z",
     "shell.execute_reply": "2023-02-14T08:00:14.773727Z"
    },
    "papermill": {
     "duration": 0.034366,
     "end_time": "2023-02-14T08:00:14.776895",
     "exception": false,
     "start_time": "2023-02-14T08:00:14.742529",
     "status": "completed"
    },
    "tags": []
   },
   "outputs": [
    {
     "data": {
      "application/javascript": [
       "parent.postMessage({\"jupyterEvent\": \"custom.exercise_interaction\", \"data\": {\"outcomeType\": 1, \"valueTowardsCompletion\": 0.16666666666666666, \"interactionType\": 1, \"questionType\": 1, \"questionId\": \"3_PriceExtremes\", \"learnToolsVersion\": \"0.3.4\", \"failureMessage\": \"\", \"exceptionClass\": \"\", \"trace\": \"\"}}, \"*\")"
      ],
      "text/plain": [
       "<IPython.core.display.Javascript object>"
      ]
     },
     "metadata": {},
     "output_type": "display_data"
    },
    {
     "data": {
      "text/markdown": [
       "<span style=\"color:#33cc33\">Correct</span>"
      ],
      "text/plain": [
       "Correct"
      ]
     },
     "metadata": {},
     "output_type": "display_data"
    }
   ],
   "source": [
    "price_extremes = reviews.groupby('variety').price.agg([min,max])\n",
    "\n",
    "# Check your answer\n",
    "q3.check()"
   ]
  },
  {
   "cell_type": "code",
   "execution_count": 7,
   "id": "64aee85c",
   "metadata": {
    "execution": {
     "iopub.execute_input": "2023-02-14T08:00:14.792261Z",
     "iopub.status.busy": "2023-02-14T08:00:14.791515Z",
     "iopub.status.idle": "2023-02-14T08:00:14.796213Z",
     "shell.execute_reply": "2023-02-14T08:00:14.795148Z"
    },
    "papermill": {
     "duration": 0.01535,
     "end_time": "2023-02-14T08:00:14.798515",
     "exception": false,
     "start_time": "2023-02-14T08:00:14.783165",
     "status": "completed"
    },
    "tags": []
   },
   "outputs": [],
   "source": [
    "#q3.hint()\n",
    "#q3.solution()"
   ]
  },
  {
   "cell_type": "markdown",
   "id": "88f85399",
   "metadata": {
    "papermill": {
     "duration": 0.005951,
     "end_time": "2023-02-14T08:00:14.810899",
     "exception": false,
     "start_time": "2023-02-14T08:00:14.804948",
     "status": "completed"
    },
    "tags": []
   },
   "source": [
    "## 4.\n",
    "What are the most expensive wine varieties? Create a variable `sorted_varieties` containing a copy of the dataframe from the previous question where varieties are sorted in descending order based on minimum price, then on maximum price (to break ties)."
   ]
  },
  {
   "cell_type": "code",
   "execution_count": 8,
   "id": "b906a7a6",
   "metadata": {
    "execution": {
     "iopub.execute_input": "2023-02-14T08:00:14.825279Z",
     "iopub.status.busy": "2023-02-14T08:00:14.824834Z",
     "iopub.status.idle": "2023-02-14T08:00:14.836303Z",
     "shell.execute_reply": "2023-02-14T08:00:14.835456Z"
    },
    "papermill": {
     "duration": 0.021301,
     "end_time": "2023-02-14T08:00:14.838330",
     "exception": false,
     "start_time": "2023-02-14T08:00:14.817029",
     "status": "completed"
    },
    "tags": []
   },
   "outputs": [
    {
     "data": {
      "application/javascript": [
       "parent.postMessage({\"jupyterEvent\": \"custom.exercise_interaction\", \"data\": {\"outcomeType\": 1, \"valueTowardsCompletion\": 0.16666666666666666, \"interactionType\": 1, \"questionType\": 1, \"questionId\": \"4_SortedVarieties\", \"learnToolsVersion\": \"0.3.4\", \"failureMessage\": \"\", \"exceptionClass\": \"\", \"trace\": \"\"}}, \"*\")"
      ],
      "text/plain": [
       "<IPython.core.display.Javascript object>"
      ]
     },
     "metadata": {},
     "output_type": "display_data"
    },
    {
     "data": {
      "text/markdown": [
       "<span style=\"color:#33cc33\">Correct</span>"
      ],
      "text/plain": [
       "Correct"
      ]
     },
     "metadata": {},
     "output_type": "display_data"
    }
   ],
   "source": [
    "sorted_varieties = price_extremes.sort_values(by=['min','max'], ascending=False )\n",
    "\n",
    "# Check your answer\n",
    "q4.check()"
   ]
  },
  {
   "cell_type": "code",
   "execution_count": 9,
   "id": "6051b0ed",
   "metadata": {
    "execution": {
     "iopub.execute_input": "2023-02-14T08:00:14.853199Z",
     "iopub.status.busy": "2023-02-14T08:00:14.852779Z",
     "iopub.status.idle": "2023-02-14T08:00:14.857293Z",
     "shell.execute_reply": "2023-02-14T08:00:14.856068Z"
    },
    "papermill": {
     "duration": 0.014648,
     "end_time": "2023-02-14T08:00:14.859460",
     "exception": false,
     "start_time": "2023-02-14T08:00:14.844812",
     "status": "completed"
    },
    "tags": []
   },
   "outputs": [],
   "source": [
    "#q4.hint()\n",
    "#q4.solution()"
   ]
  },
  {
   "cell_type": "markdown",
   "id": "6396be39",
   "metadata": {
    "papermill": {
     "duration": 0.006341,
     "end_time": "2023-02-14T08:00:14.872811",
     "exception": false,
     "start_time": "2023-02-14T08:00:14.866470",
     "status": "completed"
    },
    "tags": []
   },
   "source": [
    "## 5.\n",
    "Create a `Series` whose index is reviewers and whose values is the average review score given out by that reviewer. Hint: you will need the `taster_name` and `points` columns."
   ]
  },
  {
   "cell_type": "code",
   "execution_count": 10,
   "id": "497847d6",
   "metadata": {
    "execution": {
     "iopub.execute_input": "2023-02-14T08:00:14.887364Z",
     "iopub.status.busy": "2023-02-14T08:00:14.886930Z",
     "iopub.status.idle": "2023-02-14T08:00:14.908123Z",
     "shell.execute_reply": "2023-02-14T08:00:14.907054Z"
    },
    "papermill": {
     "duration": 0.030922,
     "end_time": "2023-02-14T08:00:14.910197",
     "exception": false,
     "start_time": "2023-02-14T08:00:14.879275",
     "status": "completed"
    },
    "tags": []
   },
   "outputs": [
    {
     "data": {
      "application/javascript": [
       "parent.postMessage({\"jupyterEvent\": \"custom.exercise_interaction\", \"data\": {\"outcomeType\": 1, \"valueTowardsCompletion\": 0.16666666666666666, \"interactionType\": 1, \"questionType\": 1, \"questionId\": \"5_ReviewerMeanRatings\", \"learnToolsVersion\": \"0.3.4\", \"failureMessage\": \"\", \"exceptionClass\": \"\", \"trace\": \"\"}}, \"*\")"
      ],
      "text/plain": [
       "<IPython.core.display.Javascript object>"
      ]
     },
     "metadata": {},
     "output_type": "display_data"
    },
    {
     "data": {
      "text/markdown": [
       "<span style=\"color:#33cc33\">Correct</span>"
      ],
      "text/plain": [
       "Correct"
      ]
     },
     "metadata": {},
     "output_type": "display_data"
    }
   ],
   "source": [
    "reviewer_mean_ratings = reviews.groupby('taster_name').points.mean()\n",
    "\n",
    "# Check your answer\n",
    "q5.check()\n"
   ]
  },
  {
   "cell_type": "code",
   "execution_count": 11,
   "id": "629c875a",
   "metadata": {
    "execution": {
     "iopub.execute_input": "2023-02-14T08:00:14.925214Z",
     "iopub.status.busy": "2023-02-14T08:00:14.924794Z",
     "iopub.status.idle": "2023-02-14T08:00:14.929311Z",
     "shell.execute_reply": "2023-02-14T08:00:14.928276Z"
    },
    "papermill": {
     "duration": 0.014475,
     "end_time": "2023-02-14T08:00:14.931416",
     "exception": false,
     "start_time": "2023-02-14T08:00:14.916941",
     "status": "completed"
    },
    "tags": []
   },
   "outputs": [],
   "source": [
    "#q5.hint()\n",
    "#q5.solution()"
   ]
  },
  {
   "cell_type": "markdown",
   "id": "e6ebd77f",
   "metadata": {
    "papermill": {
     "duration": 0.006369,
     "end_time": "2023-02-14T08:00:14.944463",
     "exception": false,
     "start_time": "2023-02-14T08:00:14.938094",
     "status": "completed"
    },
    "tags": []
   },
   "source": [
    "Are there significant differences in the average scores assigned by the various reviewers? Run the cell below to use the `describe()` method to see a summary of the range of values."
   ]
  },
  {
   "cell_type": "code",
   "execution_count": 12,
   "id": "88f82fc3",
   "metadata": {
    "execution": {
     "iopub.execute_input": "2023-02-14T08:00:14.959659Z",
     "iopub.status.busy": "2023-02-14T08:00:14.959208Z",
     "iopub.status.idle": "2023-02-14T08:00:14.971695Z",
     "shell.execute_reply": "2023-02-14T08:00:14.970870Z"
    },
    "papermill": {
     "duration": 0.022688,
     "end_time": "2023-02-14T08:00:14.973782",
     "exception": false,
     "start_time": "2023-02-14T08:00:14.951094",
     "status": "completed"
    },
    "tags": []
   },
   "outputs": [
    {
     "data": {
      "text/plain": [
       "count    19.000000\n",
       "mean     88.233026\n",
       "std       1.243610\n",
       "min      85.855422\n",
       "25%      87.323501\n",
       "50%      88.536235\n",
       "75%      88.975256\n",
       "max      90.562551\n",
       "Name: points, dtype: float64"
      ]
     },
     "execution_count": 12,
     "metadata": {},
     "output_type": "execute_result"
    }
   ],
   "source": [
    "reviewer_mean_ratings.describe()"
   ]
  },
  {
   "cell_type": "markdown",
   "id": "fc747afe",
   "metadata": {
    "papermill": {
     "duration": 0.006701,
     "end_time": "2023-02-14T08:00:14.987410",
     "exception": false,
     "start_time": "2023-02-14T08:00:14.980709",
     "status": "completed"
    },
    "tags": []
   },
   "source": [
    "## 6.\n",
    "What combination of countries and varieties are most common? Create a `Series` whose index is a `MultiIndex`of `{country, variety}` pairs. For example, a pinot noir produced in the US should map to `{\"US\", \"Pinot Noir\"}`. Sort the values in the `Series` in descending order based on wine count."
   ]
  },
  {
   "cell_type": "code",
   "execution_count": 13,
   "id": "e991c4f7",
   "metadata": {
    "execution": {
     "iopub.execute_input": "2023-02-14T08:00:15.004300Z",
     "iopub.status.busy": "2023-02-14T08:00:15.003586Z",
     "iopub.status.idle": "2023-02-14T08:00:15.045191Z",
     "shell.execute_reply": "2023-02-14T08:00:15.043956Z"
    },
    "papermill": {
     "duration": 0.052831,
     "end_time": "2023-02-14T08:00:15.047693",
     "exception": false,
     "start_time": "2023-02-14T08:00:14.994862",
     "status": "completed"
    },
    "tags": []
   },
   "outputs": [
    {
     "data": {
      "application/javascript": [
       "parent.postMessage({\"jupyterEvent\": \"custom.exercise_interaction\", \"data\": {\"outcomeType\": 1, \"valueTowardsCompletion\": 0.16666666666666666, \"interactionType\": 1, \"questionType\": 1, \"questionId\": \"6_GroupbyCountryVariety\", \"learnToolsVersion\": \"0.3.4\", \"failureMessage\": \"\", \"exceptionClass\": \"\", \"trace\": \"\"}}, \"*\")"
      ],
      "text/plain": [
       "<IPython.core.display.Javascript object>"
      ]
     },
     "metadata": {},
     "output_type": "display_data"
    },
    {
     "data": {
      "text/markdown": [
       "<span style=\"color:#33cc33\">Correct</span>"
      ],
      "text/plain": [
       "Correct"
      ]
     },
     "metadata": {},
     "output_type": "display_data"
    },
    {
     "data": {
      "text/plain": [
       "country  variety                 \n",
       "US       Pinot Noir                  9885\n",
       "         Cabernet Sauvignon          7315\n",
       "         Chardonnay                  6801\n",
       "France   Bordeaux-style Red Blend    4725\n",
       "Italy    Red Blend                   3624\n",
       "                                     ... \n",
       "Mexico   Cinsault                       1\n",
       "         Grenache                       1\n",
       "         Merlot                         1\n",
       "         Rosado                         1\n",
       "Uruguay  White Blend                    1\n",
       "Length: 1612, dtype: int64"
      ]
     },
     "execution_count": 13,
     "metadata": {},
     "output_type": "execute_result"
    }
   ],
   "source": [
    "country_variety_counts = reviews.groupby(['country','variety']).size().sort_values(ascending = False)\n",
    "\n",
    "# Check your answer\n",
    "q6.check()\n",
    "\n",
    "country_variety_counts"
   ]
  },
  {
   "cell_type": "code",
   "execution_count": 14,
   "id": "3bdcf8ba",
   "metadata": {
    "execution": {
     "iopub.execute_input": "2023-02-14T08:00:15.064473Z",
     "iopub.status.busy": "2023-02-14T08:00:15.063664Z",
     "iopub.status.idle": "2023-02-14T08:00:15.068481Z",
     "shell.execute_reply": "2023-02-14T08:00:15.067469Z"
    },
    "papermill": {
     "duration": 0.015489,
     "end_time": "2023-02-14T08:00:15.070564",
     "exception": false,
     "start_time": "2023-02-14T08:00:15.055075",
     "status": "completed"
    },
    "tags": []
   },
   "outputs": [],
   "source": [
    "#q6.hint()\n",
    "#q6.solution()"
   ]
  },
  {
   "cell_type": "markdown",
   "id": "f01619f2",
   "metadata": {
    "papermill": {
     "duration": 0.007308,
     "end_time": "2023-02-14T08:00:15.085240",
     "exception": false,
     "start_time": "2023-02-14T08:00:15.077932",
     "status": "completed"
    },
    "tags": []
   },
   "source": [
    "# Keep going\n",
    "\n",
    "Move on to the [**data types and missing data**](https://www.kaggle.com/residentmario/data-types-and-missing-values)."
   ]
  },
  {
   "cell_type": "markdown",
   "id": "584ea0c4",
   "metadata": {
    "papermill": {
     "duration": 0.007274,
     "end_time": "2023-02-14T08:00:15.100344",
     "exception": false,
     "start_time": "2023-02-14T08:00:15.093070",
     "status": "completed"
    },
    "tags": []
   },
   "source": [
    "---\n",
    "\n",
    "\n",
    "\n",
    "\n",
    "*Have questions or comments? Visit the [course discussion forum](https://www.kaggle.com/learn/pandas/discussion) to chat with other learners.*"
   ]
  }
 ],
 "metadata": {
  "kernelspec": {
   "display_name": "Python 3",
   "language": "python",
   "name": "python3"
  },
  "language_info": {
   "codemirror_mode": {
    "name": "ipython",
    "version": 3
   },
   "file_extension": ".py",
   "mimetype": "text/x-python",
   "name": "python",
   "nbconvert_exporter": "python",
   "pygments_lexer": "ipython3",
   "version": "3.7.12"
  },
  "papermill": {
   "default_parameters": {},
   "duration": 13.875527,
   "end_time": "2023-02-14T08:00:15.829773",
   "environment_variables": {},
   "exception": null,
   "input_path": "__notebook__.ipynb",
   "output_path": "__notebook__.ipynb",
   "parameters": {},
   "start_time": "2023-02-14T08:00:01.954246",
   "version": "2.3.4"
  }
 },
 "nbformat": 4,
 "nbformat_minor": 5
}
